{
 "cells": [
  {
   "cell_type": "code",
   "execution_count": 1,
   "metadata": {},
   "outputs": [],
   "source": [
    "import pandas as pd"
   ]
  },
  {
   "cell_type": "code",
   "execution_count": 2,
   "metadata": {},
   "outputs": [],
   "source": [
    "df = pd.read_csv('/Users/tania/Downloads/Xbox 3-day auctions.csv')"
   ]
  },
  {
   "cell_type": "code",
   "execution_count": 4,
   "metadata": {},
   "outputs": [
    {
     "data": {
      "text/html": [
       "<div>\n",
       "<style scoped>\n",
       "    .dataframe tbody tr th:only-of-type {\n",
       "        vertical-align: middle;\n",
       "    }\n",
       "\n",
       "    .dataframe tbody tr th {\n",
       "        vertical-align: top;\n",
       "    }\n",
       "\n",
       "    .dataframe thead th {\n",
       "        text-align: right;\n",
       "    }\n",
       "</style>\n",
       "<table border=\"1\" class=\"dataframe\">\n",
       "  <thead>\n",
       "    <tr style=\"text-align: right;\">\n",
       "      <th></th>\n",
       "      <th>auctionid</th>\n",
       "      <th>bid</th>\n",
       "      <th>bidtime</th>\n",
       "      <th>bidder</th>\n",
       "      <th>bidderrate</th>\n",
       "      <th>openbid</th>\n",
       "      <th>price</th>\n",
       "    </tr>\n",
       "  </thead>\n",
       "  <tbody>\n",
       "    <tr>\n",
       "      <th>552</th>\n",
       "      <td>8215610555</td>\n",
       "      <td>31.00</td>\n",
       "      <td>2.385764</td>\n",
       "      <td>misschicfashion</td>\n",
       "      <td>13</td>\n",
       "      <td>5.0</td>\n",
       "      <td>35.09</td>\n",
       "    </tr>\n",
       "    <tr>\n",
       "      <th>553</th>\n",
       "      <td>8215610555</td>\n",
       "      <td>32.01</td>\n",
       "      <td>2.385926</td>\n",
       "      <td>misschicfashion</td>\n",
       "      <td>13</td>\n",
       "      <td>5.0</td>\n",
       "      <td>35.09</td>\n",
       "    </tr>\n",
       "    <tr>\n",
       "      <th>554</th>\n",
       "      <td>8215610555</td>\n",
       "      <td>32.00</td>\n",
       "      <td>2.592141</td>\n",
       "      <td>minipc1</td>\n",
       "      <td>104</td>\n",
       "      <td>5.0</td>\n",
       "      <td>35.09</td>\n",
       "    </tr>\n",
       "    <tr>\n",
       "      <th>555</th>\n",
       "      <td>8215610555</td>\n",
       "      <td>35.09</td>\n",
       "      <td>2.973264</td>\n",
       "      <td>bebawl</td>\n",
       "      <td>114</td>\n",
       "      <td>5.0</td>\n",
       "      <td>35.09</td>\n",
       "    </tr>\n",
       "    <tr>\n",
       "      <th>556</th>\n",
       "      <td>8215610555</td>\n",
       "      <td>35.00</td>\n",
       "      <td>2.993472</td>\n",
       "      <td>wringo357</td>\n",
       "      <td>80</td>\n",
       "      <td>5.0</td>\n",
       "      <td>35.09</td>\n",
       "    </tr>\n",
       "  </tbody>\n",
       "</table>\n",
       "</div>"
      ],
      "text/plain": [
       "      auctionid    bid   bidtime           bidder  bidderrate  openbid  price\n",
       "552  8215610555  31.00  2.385764  misschicfashion          13      5.0  35.09\n",
       "553  8215610555  32.01  2.385926  misschicfashion          13      5.0  35.09\n",
       "554  8215610555  32.00  2.592141          minipc1         104      5.0  35.09\n",
       "555  8215610555  35.09  2.973264           bebawl         114      5.0  35.09\n",
       "556  8215610555  35.00  2.993472        wringo357          80      5.0  35.09"
      ]
     },
     "execution_count": 4,
     "metadata": {},
     "output_type": "execute_result"
    }
   ],
   "source": [
    "df.tail()"
   ]
  },
  {
   "cell_type": "code",
   "execution_count": 5,
   "metadata": {},
   "outputs": [],
   "source": [
    "winners = df[df.bid == df.price]"
   ]
  },
  {
   "cell_type": "code",
   "execution_count": 7,
   "metadata": {},
   "outputs": [
    {
     "data": {
      "text/html": [
       "<div>\n",
       "<style scoped>\n",
       "    .dataframe tbody tr th:only-of-type {\n",
       "        vertical-align: middle;\n",
       "    }\n",
       "\n",
       "    .dataframe tbody tr th {\n",
       "        vertical-align: top;\n",
       "    }\n",
       "\n",
       "    .dataframe thead th {\n",
       "        text-align: right;\n",
       "    }\n",
       "</style>\n",
       "<table border=\"1\" class=\"dataframe\">\n",
       "  <thead>\n",
       "    <tr style=\"text-align: right;\">\n",
       "      <th></th>\n",
       "      <th>auctionid</th>\n",
       "      <th>bid</th>\n",
       "      <th>bidtime</th>\n",
       "      <th>bidder</th>\n",
       "      <th>bidderrate</th>\n",
       "      <th>openbid</th>\n",
       "      <th>price</th>\n",
       "    </tr>\n",
       "  </thead>\n",
       "  <tbody>\n",
       "    <tr>\n",
       "      <th>514</th>\n",
       "      <td>8215571039</td>\n",
       "      <td>150.00</td>\n",
       "      <td>2.997442</td>\n",
       "      <td>lambonius1</td>\n",
       "      <td>0</td>\n",
       "      <td>50.00</td>\n",
       "      <td>150.00</td>\n",
       "    </tr>\n",
       "    <tr>\n",
       "      <th>515</th>\n",
       "      <td>8215571039</td>\n",
       "      <td>150.00</td>\n",
       "      <td>2.998437</td>\n",
       "      <td>analogkidd99</td>\n",
       "      <td>0</td>\n",
       "      <td>50.00</td>\n",
       "      <td>150.00</td>\n",
       "    </tr>\n",
       "    <tr>\n",
       "      <th>531</th>\n",
       "      <td>8215582227</td>\n",
       "      <td>152.50</td>\n",
       "      <td>2.999664</td>\n",
       "      <td>ultimatum_man</td>\n",
       "      <td>2</td>\n",
       "      <td>60.00</td>\n",
       "      <td>152.50</td>\n",
       "    </tr>\n",
       "    <tr>\n",
       "      <th>542</th>\n",
       "      <td>8215605488</td>\n",
       "      <td>61.00</td>\n",
       "      <td>2.586493</td>\n",
       "      <td>pgauctions</td>\n",
       "      <td>16</td>\n",
       "      <td>0.99</td>\n",
       "      <td>61.00</td>\n",
       "    </tr>\n",
       "    <tr>\n",
       "      <th>555</th>\n",
       "      <td>8215610555</td>\n",
       "      <td>35.09</td>\n",
       "      <td>2.973264</td>\n",
       "      <td>bebawl</td>\n",
       "      <td>114</td>\n",
       "      <td>5.00</td>\n",
       "      <td>35.09</td>\n",
       "    </tr>\n",
       "  </tbody>\n",
       "</table>\n",
       "</div>"
      ],
      "text/plain": [
       "      auctionid     bid   bidtime         bidder  bidderrate  openbid   price\n",
       "514  8215571039  150.00  2.997442     lambonius1           0    50.00  150.00\n",
       "515  8215571039  150.00  2.998437   analogkidd99           0    50.00  150.00\n",
       "531  8215582227  152.50  2.999664  ultimatum_man           2    60.00  152.50\n",
       "542  8215605488   61.00  2.586493     pgauctions          16     0.99   61.00\n",
       "555  8215610555   35.09  2.973264         bebawl         114     5.00   35.09"
      ]
     },
     "execution_count": 7,
     "metadata": {},
     "output_type": "execute_result"
    }
   ],
   "source": [
    "winners.tail()"
   ]
  },
  {
   "cell_type": "code",
   "execution_count": 8,
   "metadata": {},
   "outputs": [
    {
     "name": "stderr",
     "output_type": "stream",
     "text": [
      "/Users/tania/anaconda3/lib/python3.6/site-packages/pandas/core/indexing.py:543: SettingWithCopyWarning: \n",
      "A value is trying to be set on a copy of a slice from a DataFrame.\n",
      "Try using .loc[row_indexer,col_indexer] = value instead\n",
      "\n",
      "See the caveats in the documentation: http://pandas.pydata.org/pandas-docs/stable/indexing.html#indexing-view-versus-copy\n",
      "  self.obj[item] = s\n"
     ]
    }
   ],
   "source": [
    "winners.loc[555, 'bidder'] = 'tania'"
   ]
  },
  {
   "cell_type": "code",
   "execution_count": null,
   "metadata": {},
   "outputs": [],
   "source": []
  }
 ],
 "metadata": {
  "kernelspec": {
   "display_name": "Python 3",
   "language": "python",
   "name": "python3"
  },
  "language_info": {
   "codemirror_mode": {
    "name": "ipython",
    "version": 3
   },
   "file_extension": ".py",
   "mimetype": "text/x-python",
   "name": "python",
   "nbconvert_exporter": "python",
   "pygments_lexer": "ipython3",
   "version": "3.6.6"
  }
 },
 "nbformat": 4,
 "nbformat_minor": 2
}
